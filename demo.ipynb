{
 "cells": [
  {
   "cell_type": "markdown",
   "metadata": {},
   "source": [
    "# A Simple Tool for Logging and Plotting Values in Visdom\n",
    "### Wrapped Functions for Easy ploting and logging when training in pytorch"
   ]
  },
  {
   "cell_type": "markdown",
   "metadata": {},
   "source": [
    "### 1. Start the visdom server\n",
    "```\n",
    "python -m visdom.server\n",
    "```\n",
    "### 2. import Visualizer and initialize the environment"
   ]
  },
  {
   "cell_type": "code",
   "execution_count": 1,
   "metadata": {},
   "outputs": [],
   "source": [
    "from Visualizer import Visualizer\n",
    "\n",
    "#simple init env will set to default value:'main'\n",
    "vis = Visualizer()\n",
    "\n",
    "#set up new environment call 'demo'\n",
    "vis = Visualizer(env='demo')"
   ]
  },
  {
   "cell_type": "markdown",
   "metadata": {},
   "source": [
    "## Logging and Plotting the Ongoing Values in Pytorch (Loss/Accuracy)\n",
    "\n",
    "### **Single Value Plot `plot`:**  3 parameters:\n",
    "1. **name**: name for the graph *(string)*\n",
    "2. **value**: logging value\n",
    "3. *(optional)* **step**: logging step *(default is 1)*\n",
    "\n",
    "put the `vis.plot` inside the loop"
   ]
  },
  {
   "cell_type": "code",
   "execution_count": 2,
   "metadata": {},
   "outputs": [],
   "source": [
    "# simple plot with default logging step\n",
    "for i in range(0,10,1):\n",
    "    vis.plot('Single Value Plot Step 1',i/10)"
   ]
  },
  {
   "cell_type": "code",
   "execution_count": 3,
   "metadata": {},
   "outputs": [],
   "source": [
    "# simple plot with logging step 10\n",
    "for i in range(0,10,1):\n",
    "    vis.plot('Single Value Plot Step 10',i/10, 10)"
   ]
  },
  {
   "cell_type": "markdown",
   "metadata": {},
   "source": [
    "### **Multi-Value Plots into Separate Graphs `plot_all`:**  2 parameters:\n",
    "1. **dict**: dictionary contains each name and value\n",
    "```\n",
    "vis.plot_all({'Acc':0.9,'Loss':0.1})\n",
    "```\n",
    "3. *(optional)* **step**: logging step *(default is 1)*"
   ]
  },
  {
   "cell_type": "code",
   "execution_count": 4,
   "metadata": {},
   "outputs": [],
   "source": [
    "# Plot Acc graph and Loss graph at the same time with default logging step\n",
    "for i in range(0,10,1):\n",
    "    loss = {'Acc':i/10,\n",
    "            'Loss':1-i/10}\n",
    "    vis.plot_all(loss)"
   ]
  },
  {
   "cell_type": "markdown",
   "metadata": {},
   "source": [
    "### **Multi-Value Plots in One Single Graph `plot_combine`:**  3 parameters:\n",
    "1. **name**: name for the graph *(string)*\n",
    "2. **dict**: dictionary contains each name and value\n",
    "```\n",
    "vis.plot_combine('Combine Plot',{'Acc':0.9,'Loss':0.1})\n",
    "```\n",
    "3. *(optional)* **step**: logging step *(default is 1)*"
   ]
  },
  {
   "cell_type": "code",
   "execution_count": 5,
   "metadata": {},
   "outputs": [],
   "source": [
    "# Plot acc value and loss value in one graph with default logging step\n",
    "for i in range(0,10,1):\n",
    "    loss = {'Acc':i/10,\n",
    "            'Loss':1-i/10}\n",
    "    vis.plot_combine('Combine Plot',loss)"
   ]
  },
  {
   "cell_type": "markdown",
   "metadata": {},
   "source": [
    "___\n",
    "## Logging String in Pytorch\n",
    "### **Text Log `log`:** 3 parameters:\n",
    "1. **info**: logging info\n",
    "2. **name**: name for the visdom window"
   ]
  },
  {
   "cell_type": "code",
   "execution_count": 6,
   "metadata": {},
   "outputs": [],
   "source": [
    "for i in range(0,10,1):\n",
    "    loss = {'Acc':i/10,\n",
    "            'Loss':1-i/10}\n",
    "    vis.log(loss)"
   ]
  },
  {
   "cell_type": "markdown",
   "metadata": {},
   "source": [
    "___\n",
    "## Display Pytorch Tensor as Images\n",
    "### **Image Display `img`:**  2 parameters:\n",
    "\n",
    "\n",
    "1. **name**: name for the image *(strinf)*\n",
    "2. **img_**: pytorch tensors: single image or multi-images\n",
    "``` pytorch\n",
    "t.Tensor(64,64)\n",
    "t.Tensor(3,64,64)\n",
    "t.Tensor(100,1,64,64)\n",
    "t.Tensor(100,3,64,64)\n",
    "```\n",
    "3. *(optional)* **nrow**: number of image per row *(integer)*"
   ]
  },
  {
   "cell_type": "code",
   "execution_count": 7,
   "metadata": {},
   "outputs": [],
   "source": [
    "#Plot Single Images\n",
    "import torch\n",
    "from PIL import Image\n",
    "import numpy as np\n",
    "img = Image.open('imgs/Lenna.png')\n",
    "arr = np.array(img).transpose((2, 0, 1))\n",
    "tensor = torch.from_numpy(arr)\n",
    "vis.img('SingleImage',tensor)"
   ]
  },
  {
   "cell_type": "code",
   "execution_count": 8,
   "metadata": {},
   "outputs": [],
   "source": [
    "#Plot Multi Images (4D tensor)\n",
    "img = Image.open('imgs/Lenna.png')\n",
    "arr = np.array(img).transpose((2, 0, 1))\n",
    "tensor = torch.from_numpy(arr)\n",
    "tensor4D = tensor.unsqueeze(0)\n",
    "for i in range(5):\n",
    "    tensor4D=torch.cat((tensor4D,tensor.unsqueeze(0)),0)\n",
    "vis.img('MultiImage',tensor4D, nrow=3)"
   ]
  },
  {
   "cell_type": "markdown",
   "metadata": {},
   "source": [
    "___\n",
    "### **Check Visdom Connection**: `check_connection`"
   ]
  },
  {
   "cell_type": "code",
   "execution_count": 9,
   "metadata": {},
   "outputs": [
    {
     "data": {
      "text/plain": [
       "True"
      ]
     },
     "execution_count": 9,
     "metadata": {},
     "output_type": "execute_result"
    }
   ],
   "source": [
    "vis.check_connection()"
   ]
  }
 ],
 "metadata": {
  "kernelspec": {
   "display_name": "Python 3",
   "language": "python",
   "name": "python3"
  },
  "language_info": {
   "codemirror_mode": {
    "name": "ipython",
    "version": 3
   },
   "file_extension": ".py",
   "mimetype": "text/x-python",
   "name": "python",
   "nbconvert_exporter": "python",
   "pygments_lexer": "ipython3",
   "version": "3.6.4"
  }
 },
 "nbformat": 4,
 "nbformat_minor": 2
}
